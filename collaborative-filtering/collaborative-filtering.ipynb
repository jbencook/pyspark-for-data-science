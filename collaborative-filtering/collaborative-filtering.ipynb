{
 "cells": [
  {
   "cell_type": "code",
   "execution_count": 121,
   "metadata": {
    "collapsed": false
   },
   "outputs": [],
   "source": [
    "%matplotlib inline\n",
    "import matplotlib.pyplot as plt\n",
    "import seaborn as sns\n",
    "import os\n",
    "import sys\n",
    "from operator import itemgetter\n",
    "import datetime as dt\n",
    "import re\n",
    "\n",
    "from pyspark import SparkConf\n",
    "from pyspark import SparkContext\n",
    "from pyspark.mllib.recommendation import ALS\n",
    "from pyspark.mllib.recommendation import Rating\n",
    "\n",
    "# conf = SparkConf().setMaster(\"local\")\n",
    "# sc = SparkContext(conf=conf)"
   ]
  },
  {
   "cell_type": "markdown",
   "metadata": {},
   "source": [
    "### Download the simulated log data [here](https://s3.amazonaws.com/hudl-hadoop/pyspark-workshop/log-data.zip)."
   ]
  },
  {
   "cell_type": "markdown",
   "metadata": {},
   "source": [
    "# The basics"
   ]
  },
  {
   "cell_type": "markdown",
   "metadata": {},
   "source": [
    "### RDDs\n",
    "\n",
    "The most basic abstraction is a Resilient Distributed Dataset (RDD). You can think of it as a distributed list, or array."
   ]
  },
  {
   "cell_type": "code",
   "execution_count": 2,
   "metadata": {
    "collapsed": true
   },
   "outputs": [],
   "source": [
    "rdd = sc.parallelize([1, 2, 3, 4, 5])"
   ]
  },
  {
   "cell_type": "markdown",
   "metadata": {},
   "source": [
    "### Transformations and actions\n",
    "\n",
    "You can do two types of operations on RDD's: **transformations**, which return pointers to new RDD's and **actions** which bring results back to the driver, or master. The most basic transformation is `map` which maps a function to each element in an RDD."
   ]
  },
  {
   "cell_type": "code",
   "execution_count": 3,
   "metadata": {
    "collapsed": false
   },
   "outputs": [
    {
     "data": {
      "text/plain": [
       "PythonRDD[1] at RDD at PythonRDD.scala:43"
      ]
     },
     "execution_count": 3,
     "metadata": {},
     "output_type": "execute_result"
    }
   ],
   "source": [
    "rdd.map(lambda x: x + 1)"
   ]
  },
  {
   "cell_type": "markdown",
   "metadata": {},
   "source": [
    "The above transformation increments each element by one. We can see the result by calling the `collect` action, which pulls the transformed RDD into memory as a list."
   ]
  },
  {
   "cell_type": "code",
   "execution_count": 4,
   "metadata": {
    "collapsed": false
   },
   "outputs": [
    {
     "data": {
      "text/plain": [
       "[2, 3, 4, 5, 6]"
      ]
     },
     "execution_count": 4,
     "metadata": {},
     "output_type": "execute_result"
    }
   ],
   "source": [
    "rdd.map(lambda x: x + 1).collect()"
   ]
  },
  {
   "cell_type": "markdown",
   "metadata": {},
   "source": [
    "The `lambda` keyword creates an [anonymous function in Python](http://en.wikipedia.org/wiki/Anonymous_function#Python). The `map` transformation can also pass defined functions to every element."
   ]
  },
  {
   "cell_type": "code",
   "execution_count": 5,
   "metadata": {
    "collapsed": false
   },
   "outputs": [
    {
     "data": {
      "text/plain": [
       "[0, 1, 2, 3, 4]"
      ]
     },
     "execution_count": 5,
     "metadata": {},
     "output_type": "execute_result"
    }
   ],
   "source": [
    "def decrement(x):\n",
    "    return x - 1\n",
    "\n",
    "rdd.map(decrement).collect()"
   ]
  },
  {
   "cell_type": "markdown",
   "metadata": {},
   "source": [
    "### Useful actions\n",
    "\n",
    "Some very useful actions for getting a feel for an RDD are `first`, `take` and `takeSample`. Let's read in the Apache Spark [README.md](https://github.com/apache/spark/blob/master/README.md) as an RDD (each line is an element)."
   ]
  },
  {
   "cell_type": "code",
   "execution_count": 6,
   "metadata": {
    "collapsed": false
   },
   "outputs": [],
   "source": [
    "spark_readme_path = os.path.join(os.environ.get(\"SPARK_HOME\"), \"README.md\")\n",
    "spark_readme = sc.textFile(spark_readme_path)"
   ]
  },
  {
   "cell_type": "code",
   "execution_count": 7,
   "metadata": {
    "collapsed": false
   },
   "outputs": [
    {
     "data": {
      "text/plain": [
       "u'# Apache Spark'"
      ]
     },
     "execution_count": 7,
     "metadata": {},
     "output_type": "execute_result"
    }
   ],
   "source": [
    "spark_readme.first()"
   ]
  },
  {
   "cell_type": "code",
   "execution_count": 8,
   "metadata": {
    "collapsed": false
   },
   "outputs": [
    {
     "data": {
      "text/plain": [
       "[u'# Apache Spark',\n",
       " u'',\n",
       " u'Spark is a fast and general cluster computing system for Big Data. It provides',\n",
       " u'high-level APIs in Scala, Java, and Python, and an optimized engine that',\n",
       " u'supports general computation graphs for data analysis. It also supports a',\n",
       " u'rich set of higher-level tools including Spark SQL for SQL and structured',\n",
       " u'data processing, MLlib for machine learning, GraphX for graph processing,',\n",
       " u'and Spark Streaming for stream processing.',\n",
       " u'',\n",
       " u'<http://spark.apache.org/>']"
      ]
     },
     "execution_count": 8,
     "metadata": {},
     "output_type": "execute_result"
    }
   ],
   "source": [
    "spark_readme.take(10)"
   ]
  },
  {
   "cell_type": "code",
   "execution_count": 9,
   "metadata": {
    "collapsed": false
   },
   "outputs": [
    {
     "data": {
      "text/plain": [
       "[u'',\n",
       " u'data processing, MLlib for machine learning, GraphX for graph processing,',\n",
       " u'distribution.',\n",
       " u'',\n",
       " u'',\n",
       " u'',\n",
       " u'# Apache Spark',\n",
       " u'',\n",
       " u'## Online Documentation',\n",
       " u'']"
      ]
     },
     "execution_count": 9,
     "metadata": {},
     "output_type": "execute_result"
    }
   ],
   "source": [
    "spark_readme.takeSample(withReplacement=False, num=10)"
   ]
  },
  {
   "cell_type": "markdown",
   "metadata": {},
   "source": [
    "### Useful transformations: `filter`\n",
    "\n",
    "The `filter` transformation maps a function to every element and only keeps the element if the function evaluates to `True`. The following returns all the lines from the `README` with URLs."
   ]
  },
  {
   "cell_type": "code",
   "execution_count": 10,
   "metadata": {
    "collapsed": false
   },
   "outputs": [
    {
     "data": {
      "text/plain": [
       "[u'<http://spark.apache.org/>',\n",
       " u'guide, on the [project web page](http://spark.apache.org/documentation.html)',\n",
       " u'and [project wiki](https://cwiki.apache.org/confluence/display/SPARK).',\n",
       " u'Spark is built using [Apache Maven](http://maven.apache.org/).',\n",
       " u'[\"Building Spark\"](http://spark.apache.org/docs/latest/building-spark.html).',\n",
       " u'[run all automated tests](https://cwiki.apache.org/confluence/display/SPARK/Contributing+to+Spark#ContributingtoSpark-AutomatedTesting).',\n",
       " u'[\"Specifying the Hadoop Version\"](http://spark.apache.org/docs/latest/building-with-maven.html#specifying-the-hadoop-version)',\n",
       " u'[\"Third Party Hadoop Distributions\"](http://spark.apache.org/docs/latest/hadoop-third-party-distributions.html)',\n",
       " u'Please refer to the [Configuration guide](http://spark.apache.org/docs/latest/configuration.html)']"
      ]
     },
     "execution_count": 10,
     "metadata": {},
     "output_type": "execute_result"
    }
   ],
   "source": [
    "spark_readme.filter(lambda x: \"http\" in x).collect()"
   ]
  },
  {
   "cell_type": "markdown",
   "metadata": {},
   "source": [
    "### Useful transformations: `flatMap`\n",
    "\n",
    "A `flatMap` transformation takes a function that returns a list. The list is then exploded and each element is included in the transformed RDD. The following returns each character in the README as a separate element."
   ]
  },
  {
   "cell_type": "code",
   "execution_count": 11,
   "metadata": {
    "collapsed": false
   },
   "outputs": [
    {
     "data": {
      "text/plain": [
       "[u'#',\n",
       " u' ',\n",
       " u'A',\n",
       " u'p',\n",
       " u'a',\n",
       " u'c',\n",
       " u'h',\n",
       " u'e',\n",
       " u' ',\n",
       " u'S',\n",
       " u'p',\n",
       " u'a',\n",
       " u'r',\n",
       " u'k']"
      ]
     },
     "execution_count": 11,
     "metadata": {},
     "output_type": "execute_result"
    }
   ],
   "source": [
    "spark_readme.flatMap(lambda x: list(x)).take(14)"
   ]
  },
  {
   "cell_type": "markdown",
   "metadata": {},
   "source": [
    "### The `reduce` action\n",
    "\n",
    "`reduce` applies a function that takes two elements and returns one. Every element gets combined with another element until only one remains. A common `reduce` operation is sum. Below we `map` each line of the `README` to the number 1 and then `reduce` those ones with a sum function to get the total number of lines in the `README`."
   ]
  },
  {
   "cell_type": "code",
   "execution_count": 12,
   "metadata": {
    "collapsed": false
   },
   "outputs": [
    {
     "data": {
      "text/plain": [
       "98"
      ]
     },
     "execution_count": 12,
     "metadata": {},
     "output_type": "execute_result"
    }
   ],
   "source": [
    "spark_readme.map(lambda line: 1).reduce(lambda a, b: a + b)"
   ]
  },
  {
   "cell_type": "markdown",
   "metadata": {},
   "source": [
    "We can get the largest (smallest) line by returning the larger (smaller) of two arguments."
   ]
  },
  {
   "cell_type": "code",
   "execution_count": 13,
   "metadata": {
    "collapsed": false
   },
   "outputs": [
    {
     "data": {
      "text/plain": [
       "u'[run all automated tests](https://cwiki.apache.org/confluence/display/SPARK/Contributing+to+Spark#ContributingtoSpark-AutomatedTesting).'"
      ]
     },
     "execution_count": 13,
     "metadata": {},
     "output_type": "execute_result"
    }
   ],
   "source": [
    "spark_readme.reduce(lambda a, b: a if len(a) > len(b) else b)"
   ]
  },
  {
   "cell_type": "markdown",
   "metadata": {},
   "source": [
    "# Munging 101"
   ]
  },
  {
   "cell_type": "code",
   "execution_count": 14,
   "metadata": {
    "collapsed": false
   },
   "outputs": [],
   "source": [
    "logs = sc.textFile(\"./log-data/\")"
   ]
  },
  {
   "cell_type": "markdown",
   "metadata": {},
   "source": [
    "### How many logs are there in the `log-data/` folder?"
   ]
  },
  {
   "cell_type": "code",
   "execution_count": 15,
   "metadata": {
    "collapsed": false
   },
   "outputs": [
    {
     "data": {
      "text/plain": [
       "134403"
      ]
     },
     "execution_count": 15,
     "metadata": {},
     "output_type": "execute_result"
    }
   ],
   "source": [
    "logs.count()"
   ]
  },
  {
   "cell_type": "markdown",
   "metadata": {},
   "source": [
    "### What does one of the logs look like?"
   ]
  },
  {
   "cell_type": "code",
   "execution_count": 16,
   "metadata": {
    "collapsed": false
   },
   "outputs": [
    {
     "data": {
      "text/plain": [
       "u'2015-04-30 03:02:59,000 p-web-a-zfkgty [INFO ] [Audit] App=Hudl,Func=View,Op=PremiumHighlight,Ip=477.735.511.568,AuthUser=1371068817,Role=Participant,Attributes=[HighlightReel=62029817,Privacy=Public,Player=Flash,IsRendered=Unknown,IsYouTube=False,IsMobile=False,PageSource=EmbeddablePlayer]'"
      ]
     },
     "execution_count": 16,
     "metadata": {},
     "output_type": "execute_result"
    }
   ],
   "source": [
    "logs.first()"
   ]
  },
  {
   "cell_type": "markdown",
   "metadata": {},
   "source": [
    "### Get the date from all the logs (you can leave them as strings)"
   ]
  },
  {
   "cell_type": "code",
   "execution_count": 20,
   "metadata": {
    "collapsed": false
   },
   "outputs": [
    {
     "data": {
      "text/plain": [
       "[u'2015-04-30 03:02:59,000',\n",
       " u'2015-04-30 03:03:43,000',\n",
       " u'2015-04-30 03:04:34,000',\n",
       " u'2015-04-30 03:05:33,000',\n",
       " u'2015-04-30 03:06:03,000',\n",
       " u'2015-04-30 03:06:39,000',\n",
       " u'2015-04-30 03:07:15,000',\n",
       " u'2015-04-30 03:08:14,000',\n",
       " u'2015-04-30 03:09:12,000',\n",
       " u'2015-04-30 03:09:40,000']"
      ]
     },
     "execution_count": 20,
     "metadata": {},
     "output_type": "execute_result"
    }
   ],
   "source": [
    "times = logs.map(lambda x: \" \".join(x.split()[:2]))\n",
    "times.take(10)"
   ]
  },
  {
   "cell_type": "markdown",
   "metadata": {},
   "source": [
    "### How many unique days are represented?"
   ]
  },
  {
   "cell_type": "code",
   "execution_count": 21,
   "metadata": {
    "collapsed": false
   },
   "outputs": [
    {
     "data": {
      "text/plain": [
       "[u'2015-05-03',\n",
       " u'2015-05-02',\n",
       " u'2015-05-01',\n",
       " u'2015-04-30',\n",
       " u'2015-05-06',\n",
       " u'2015-05-05',\n",
       " u'2015-05-04']"
      ]
     },
     "execution_count": 21,
     "metadata": {},
     "output_type": "execute_result"
    }
   ],
   "source": [
    "times.map(lambda x: x.split()[0]).distinct().collect()"
   ]
  },
  {
   "cell_type": "markdown",
   "metadata": {},
   "source": [
    "# Descriptives"
   ]
  },
  {
   "cell_type": "markdown",
   "metadata": {},
   "source": [
    "### Helpful datetime arithmetic tricks"
   ]
  },
  {
   "cell_type": "code",
   "execution_count": 22,
   "metadata": {
    "collapsed": false
   },
   "outputs": [
    {
     "data": {
      "text/plain": [
       "True"
      ]
     },
     "execution_count": 22,
     "metadata": {},
     "output_type": "execute_result"
    }
   ],
   "source": [
    "dt.datetime(2014, 1, 1) < dt.datetime(2015, 1, 1)"
   ]
  },
  {
   "cell_type": "code",
   "execution_count": 23,
   "metadata": {
    "collapsed": false
   },
   "outputs": [
    {
     "data": {
      "text/plain": [
       "datetime.datetime(2015, 1, 1, 0, 0)"
      ]
     },
     "execution_count": 23,
     "metadata": {},
     "output_type": "execute_result"
    }
   ],
   "source": [
    "dt.datetime(2014, 1, 1) + dt.timedelta(365)"
   ]
  },
  {
   "cell_type": "code",
   "execution_count": 24,
   "metadata": {
    "collapsed": false
   },
   "outputs": [
    {
     "data": {
      "text/plain": [
       "86400.0"
      ]
     },
     "execution_count": 24,
     "metadata": {},
     "output_type": "execute_result"
    }
   ],
   "source": [
    "day_diff = dt.datetime(2014, 1, 2) - dt.datetime(2014, 1, 1)\n",
    "day_diff.total_seconds()"
   ]
  },
  {
   "cell_type": "code",
   "execution_count": 25,
   "metadata": {
    "collapsed": true
   },
   "outputs": [],
   "source": [
    "def datetime_from_log(log):\n",
    "    \"\"\"Accepts a view log as input and returns a datetime object\"\"\"\n",
    "    pattern = re.compile(\"\\d{4}-\\d{2}-\\d{2} \\d{2}:\\d{2}:\\d{2}\")\n",
    "    date_str = pattern.findall(log)[0]\n",
    "    \n",
    "    return dt.datetime.strptime(date_str, \"%Y-%m-%d %H:%M:%S\")"
   ]
  },
  {
   "cell_type": "markdown",
   "metadata": {},
   "source": [
    "### When is the first view? (Hint: try to use the `reduce` action)"
   ]
  },
  {
   "cell_type": "code",
   "execution_count": 26,
   "metadata": {
    "collapsed": false
   },
   "outputs": [
    {
     "data": {
      "text/plain": [
       "datetime.datetime(2015, 4, 30, 0, 0)"
      ]
     },
     "execution_count": 26,
     "metadata": {},
     "output_type": "execute_result"
    }
   ],
   "source": [
    "logs.map(datetime_from_log).reduce(lambda a, b: a if a < b else b)"
   ]
  },
  {
   "cell_type": "markdown",
   "metadata": {},
   "source": [
    "### When is the last view? (Hint: Spark also has a built-in action for that)"
   ]
  },
  {
   "cell_type": "code",
   "execution_count": 27,
   "metadata": {
    "collapsed": false
   },
   "outputs": [
    {
     "data": {
      "text/plain": [
       "datetime.datetime(2015, 5, 6, 23, 59, 55)"
      ]
     },
     "execution_count": 27,
     "metadata": {},
     "output_type": "execute_result"
    }
   ],
   "source": [
    "logs.map(datetime_from_log).max()"
   ]
  },
  {
   "cell_type": "markdown",
   "metadata": {},
   "source": [
    "### How many PremiumHighlight Views per hour are there?"
   ]
  },
  {
   "cell_type": "code",
   "execution_count": 28,
   "metadata": {
    "collapsed": false
   },
   "outputs": [],
   "source": [
    "num_views = times.map(lambda x: x.split(\":\")[0]) \\\n",
    "    .map(lambda x: (x, 1)) \\\n",
    "    .reduceByKey(lambda a, b: a + b) \\\n",
    "    .sortByKey()\n",
    "    \n",
    "num_views_list = num_views.collect()"
   ]
  },
  {
   "cell_type": "code",
   "execution_count": 29,
   "metadata": {
    "collapsed": false
   },
   "outputs": [
    {
     "data": {
      "text/plain": [
       "[(u'2015-04-30 00', 1613),\n",
       " (u'2015-04-30 01', 1539),\n",
       " (u'2015-04-30 02', 1773),\n",
       " (u'2015-04-30 03', 1676),\n",
       " (u'2015-04-30 04', 1392),\n",
       " (u'2015-04-30 05', 990),\n",
       " (u'2015-04-30 06', 887),\n",
       " (u'2015-04-30 07', 675),\n",
       " (u'2015-04-30 08', 492),\n",
       " (u'2015-04-30 09', 419)]"
      ]
     },
     "execution_count": 29,
     "metadata": {},
     "output_type": "execute_result"
    }
   ],
   "source": [
    "num_views_list[:10]"
   ]
  },
  {
   "cell_type": "code",
   "execution_count": 30,
   "metadata": {
    "collapsed": false
   },
   "outputs": [
    {
     "data": {
      "image/png": "[encoded data removed]",
      "text/plain": [
       "<matplotlib.figure.Figure at 0x10627c790>"
      ]
     },
     "metadata": {},
     "output_type": "display_data"
    }
   ],
   "source": [
    "plt.figure(figsize=(15, 5))\n",
    "plt.bar(range(len(num_views_list)), map(itemgetter(1), num_views_list))\n",
    "\n",
    "plt.xticks(range(0, 180, 24), map(itemgetter(0), num_views_list)[::24], rotation=90)\n",
    "\n",
    "plt.ylabel(\"Number of views\")\n",
    "plt.xlabel(\"Hour\")\n",
    "plt.show()"
   ]
  },
  {
   "cell_type": "code",
   "execution_count": 31,
   "metadata": {
    "collapsed": false
   },
   "outputs": [],
   "source": [
    "views_per_hour_of_day = num_views.map(lambda x: (x[0].split()[1], x[1])) \\\n",
    "    .groupByKey() \\\n",
    "    .sortByKey() \\\n",
    "    .map(lambda x: (int(x[0]), x[1].data)) \\\n",
    "    .collect()"
   ]
  },
  {
   "cell_type": "code",
   "execution_count": 32,
   "metadata": {
    "collapsed": false
   },
   "outputs": [
    {
     "data": {
      "text/plain": [
       "[(0, [1613, 1456, 1154, 1231, 926, 939, 884]),\n",
       " (1, [1539, 1336, 1305, 1142, 928, 965, 883]),\n",
       " (2, [1773, 1454, 1223, 1246, 882, 982, 1016]),\n",
       " (3, [1676, 1441, 1330, 1170, 820, 977, 1049]),\n",
       " (4, [1392, 1141, 1320, 900, 808, 820, 790]),\n",
       " (5, [990, 974, 887, 780, 761, 798, 810]),\n",
       " (6, [887, 844, 812, 678, 454, 538, 610]),\n",
       " (7, [675, 674, 511, 411, 316, 386, 473]),\n",
       " (8, [492, 279, 325, 268, 223, 285, 342]),\n",
       " (9, [419, 189, 163, 161, 134, 176, 195]),\n",
       " (10, [129, 105, 147, 125, 61, 145, 125]),\n",
       " (11, [101, 88, 95, 87, 54, 64, 83]),\n",
       " (12, [229, 281, 165, 115, 73, 91, 92]),\n",
       " (13, [594, 712, 239, 174, 171, 149, 191]),\n",
       " (14, [1054, 1020, 429, 324, 312, 297, 263]),\n",
       " (15, [1499, 1238, 639, 453, 467, 466, 429]),\n",
       " (16, [1485, 1641, 965, 705, 671, 645, 542]),\n",
       " (17, [1732, 1595, 1228, 852, 773, 685, 738]),\n",
       " (18, [2009, 1540, 1278, 839, 841, 910, 899]),\n",
       " (19, [1845, 1455, 1176, 947, 962, 966, 974]),\n",
       " (20, [1681, 1465, 1242, 967, 896, 954, 1081]),\n",
       " (21, [1546, 1347, 1246, 839, 868, 950, 947]),\n",
       " (22, [1623, 1253, 1187, 829, 971, 828, 1059]),\n",
       " (23, [1398, 1248, 1186, 928, 1019, 886, 1055])]"
      ]
     },
     "execution_count": 32,
     "metadata": {},
     "output_type": "execute_result"
    }
   ],
   "source": [
    "views_per_hour_of_day"
   ]
  },
  {
   "cell_type": "code",
   "execution_count": 33,
   "metadata": {
    "collapsed": false
   },
   "outputs": [
    {
     "data": {
      "image/png": "[encoded data removed]",
      "text/plain": [
       "<matplotlib.figure.Figure at 0x10c1be750>"
      ]
     },
     "metadata": {},
     "output_type": "display_data"
    }
   ],
   "source": [
    "plt.figure(figsize=(15, 5))\n",
    "plt.boxplot(map(itemgetter(1), views_per_hour_of_day))\n",
    "plt.ylabel(\"Views\")\n",
    "plt.xlabel(\"Hour of day\")\n",
    "plt.show()"
   ]
  },
  {
   "cell_type": "markdown",
   "metadata": {
    "collapsed": true
   },
   "source": [
    "### What's the average wait time (seconds) between views?"
   ]
  },
  {
   "cell_type": "code",
   "execution_count": 39,
   "metadata": {
    "collapsed": false
   },
   "outputs": [
    {
     "data": {
      "text/plain": [
       "[(u'2015-04-30 03:02:59,000', 0),\n",
       " (u'2015-04-30 03:03:43,000', 1),\n",
       " (u'2015-04-30 03:04:34,000', 2),\n",
       " (u'2015-04-30 03:05:33,000', 3),\n",
       " (u'2015-04-30 03:06:03,000', 4),\n",
       " (u'2015-04-30 03:06:39,000', 5),\n",
       " (u'2015-04-30 03:07:15,000', 6),\n",
       " (u'2015-04-30 03:08:14,000', 7),\n",
       " (u'2015-04-30 03:09:12,000', 8),\n",
       " (u'2015-04-30 03:09:40,000', 9)]"
      ]
     },
     "execution_count": 39,
     "metadata": {},
     "output_type": "execute_result"
    }
   ],
   "source": [
    "## Hint: you can use the `zipWithIndex` method\n",
    "times.zipWithIndex().take(10)"
   ]
  },
  {
   "cell_type": "code",
   "execution_count": 53,
   "metadata": {
    "collapsed": false
   },
   "outputs": [],
   "source": [
    "times_with_index = times.map(datetime_from_log) \\\n",
    "    .sortBy(lambda x: x) \\\n",
    "    .zipWithIndex() \\\n",
    "    .map(lambda x: x[::-1])\n",
    "    \n",
    "wait_times = times_with_index.map(lambda x: (x[0] + 1, x[1])) \\\n",
    "    .join(times_with_index) \\\n",
    "    .map(lambda x: x[1]) \\\n",
    "    .map(lambda x: (x[1] - x[0]).total_seconds()) \\\n",
    "    .collect()"
   ]
  },
  {
   "cell_type": "code",
   "execution_count": 68,
   "metadata": {
    "collapsed": false
   },
   "outputs": [
    {
     "data": {
      "image/png": "[encoded data removed]",
      "text/plain": [
       "<matplotlib.figure.Figure at 0x10e15c0d0>"
      ]
     },
     "metadata": {},
     "output_type": "display_data"
    }
   ],
   "source": [
    "plt.figure(figsize=(15, 5))\n",
    "plt.hist(wait_times, bins=100, normed=True)\n",
    "plt.xlabel(\"$t$ (seconds)\")\n",
    "plt.ylabel(\"$P(T=t)$\")\n",
    "plt.show()"
   ]
  },
  {
   "cell_type": "code",
   "execution_count": 67,
   "metadata": {
    "collapsed": false
   },
   "outputs": [
    {
     "data": {
      "text/plain": [
       "0.49293165280278567"
      ]
     },
     "execution_count": 67,
     "metadata": {},
     "output_type": "execute_result"
    }
   ],
   "source": [
    "sum([t > 2 for t in wait_times]) / float(len(wait_times))"
   ]
  },
  {
   "cell_type": "markdown",
   "metadata": {},
   "source": [
    "### Pull out AuthUser and HighlightReel for each log"
   ]
  },
  {
   "cell_type": "code",
   "execution_count": 103,
   "metadata": {
    "collapsed": false
   },
   "outputs": [],
   "source": [
    "def user_highlight_pair(log):\n",
    "    user_pattern = re.compile(\"AuthUser=\\d+\")\n",
    "    reel_pattern = re.compile(\"HighlightReel=\\d+\")\n",
    "    authuser = user_pattern.findall(log)[0]\n",
    "    highlightreel = reel_pattern.findall(log)[0]\n",
    "    \n",
    "    return (authuser, highlightreel)"
   ]
  },
  {
   "cell_type": "code",
   "execution_count": 105,
   "metadata": {
    "collapsed": false
   },
   "outputs": [],
   "source": [
    "views = logs.map(user_highlight_pair)"
   ]
  },
  {
   "cell_type": "markdown",
   "metadata": {},
   "source": [
    "### If all users/highlights fit in memory"
   ]
  },
  {
   "cell_type": "code",
   "execution_count": 106,
   "metadata": {
    "collapsed": true
   },
   "outputs": [],
   "source": [
    "all_users = views.map(lambda x: x[0]).distinct().collect()\n",
    "all_highlights = views.map(lambda x: x[1]).distinct().collect()"
   ]
  },
  {
   "cell_type": "code",
   "execution_count": 107,
   "metadata": {
    "collapsed": true
   },
   "outputs": [],
   "source": [
    "user_dict = {}\n",
    "for i, u in enumerate(all_users):\n",
    "    user_dict[u] = i\n",
    "    \n",
    "highlight_dict = {}\n",
    "for i, h in enumerate(all_highlights):\n",
    "    highlight_dict[h] = i"
   ]
  },
  {
   "cell_type": "code",
   "execution_count": 108,
   "metadata": {
    "collapsed": true
   },
   "outputs": [],
   "source": [
    "user_dict_b = sc.broadcast(user_dict)\n",
    "highlight_dict_b = sc.broadcast(highlight_dict)"
   ]
  },
  {
   "cell_type": "code",
   "execution_count": 109,
   "metadata": {
    "collapsed": true
   },
   "outputs": [],
   "source": [
    "indexed_views = views.map(lambda x: (user_dict_b.value[x[0]], highlight_dict_b.value[x[1]]))"
   ]
  },
  {
   "cell_type": "markdown",
   "metadata": {},
   "source": [
    "### If users/highlights don't fit in memory"
   ]
  },
  {
   "cell_type": "code",
   "execution_count": 110,
   "metadata": {
    "collapsed": true
   },
   "outputs": [],
   "source": [
    "all_users = views.map(lambda x: x[0]).distinct().zipWithIndex()\n",
    "all_highlights = views.map(lambda x: x[1]).distinct().zipWithIndex()"
   ]
  },
  {
   "cell_type": "code",
   "execution_count": 111,
   "metadata": {
    "collapsed": true
   },
   "outputs": [],
   "source": [
    "indexed_views = views.leftOuterJoin(all_users) \\\n",
    "    .map(lambda x: x[1]) \\\n",
    "    .leftOuterJoin(all_highlights) \\\n",
    "    .map(lambda x: x[1])"
   ]
  },
  {
   "cell_type": "code",
   "execution_count": 113,
   "metadata": {
    "collapsed": false
   },
   "outputs": [
    {
     "name": "stdout",
     "output_type": "stream",
     "text": [
      "39282\n",
      "39282\n"
     ]
    }
   ],
   "source": [
    "print views.map(lambda x: x[0]).distinct().count() - 1\n",
    "print indexed_views.map(lambda x: x[0]).max()"
   ]
  },
  {
   "cell_type": "code",
   "execution_count": 114,
   "metadata": {
    "collapsed": false
   },
   "outputs": [
    {
     "name": "stdout",
     "output_type": "stream",
     "text": [
      "62151\n",
      "62151\n"
     ]
    }
   ],
   "source": [
    "print views.map(lambda x: x[1]).distinct().count() - 1\n",
    "print indexed_views.map(lambda x: x[1]).max()"
   ]
  },
  {
   "cell_type": "code",
   "execution_count": 119,
   "metadata": {
    "collapsed": true
   },
   "outputs": [],
   "source": [
    "rank = 10\n",
    "iterations = 20"
   ]
  },
  {
   "cell_type": "code",
   "execution_count": 122,
   "metadata": {
    "collapsed": true
   },
   "outputs": [],
   "source": [
    "ratings = indexed_views.groupBy(lambda x: x) \\\n",
    "    .map(lambda x: Rating(x[0][0], x[0][1], len(x[1].data)))"
   ]
  },
  {
   "cell_type": "code",
   "execution_count": 123,
   "metadata": {
    "collapsed": false
   },
   "outputs": [],
   "source": [
    "# Build the recommendation model using Alternating Least Squares based on implicit ratings\n",
    "model = ALS.trainImplicit(ratings, rank, iterations)"
   ]
  },
  {
   "cell_type": "code",
   "execution_count": 126,
   "metadata": {
    "collapsed": false
   },
   "outputs": [
    {
     "data": {
      "text/plain": [
       "9.919003503210321e-29"
      ]
     },
     "execution_count": 126,
     "metadata": {},
     "output_type": "execute_result"
    }
   ],
   "source": [
    "model.predict(1, 2)"
   ]
  },
  {
   "cell_type": "code",
   "execution_count": null,
   "metadata": {
    "collapsed": true
   },
   "outputs": [],
   "source": []
  }
 ],
 "metadata": {
  "kernelspec": {
   "display_name": "Python 2",
   "language": "python",
   "name": "python2"
  },
  "language_info": {
   "codemirror_mode": {
    "name": "ipython",
    "version": 2
   },
   "file_extension": ".py",
   "mimetype": "text/x-python",
   "name": "python",
   "nbconvert_exporter": "python",
   "pygments_lexer": "ipython2",
   "version": "2.7.9"
  }
 },
 "nbformat": 4,
 "nbformat_minor": 0
}
